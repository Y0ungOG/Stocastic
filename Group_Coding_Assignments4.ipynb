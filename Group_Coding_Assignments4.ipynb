{
  "nbformat": 4,
  "nbformat_minor": 0,
  "metadata": {
    "celltoolbar": "Raw Cell Format",
    "kernelspec": {
      "display_name": "Python 3",
      "language": "python",
      "name": "python3"
    },
    "language_info": {
      "codemirror_mode": {
        "name": "ipython",
        "version": 3
      },
      "file_extension": ".py",
      "mimetype": "text/x-python",
      "name": "python",
      "nbconvert_exporter": "python",
      "pygments_lexer": "ipython3",
      "version": "3.7.3"
    },
    "colab": {
      "provenance": []
    }
  },
  "cells": [
    {
      "cell_type": "markdown",
      "metadata": {
        "id": "kj2CpetkeU0-"
      },
      "source": [
        "<img src=\"https://news.illinois.edu/files/6367/543635/116641.jpg\" alt=\"University of Illinois\" width=\"250\"/>\n",
        "\n",
        "# HW: Stochastics\n",
        "\n",
        "### due YYYY-MM-DD ###\n",
        "\n",
        "HW submission by group (up to 4 people)\n",
        "* John Doe <johndoe@illinois.edu>\n",
        "* Jane Roe <janeroe@illinois.edu>\n",
        "\n",
        "Note:  Anaconda Python <https://www.anaconda.com/distribution/> is a strong implementation of python."
      ]
    },
    {
      "cell_type": "markdown",
      "metadata": {
        "id": "Z8vUR0i1eU1Y"
      },
      "source": [
        "## imports and graphics configurations"
      ]
    },
    {
      "cell_type": "code",
      "metadata": {
        "id": "RFQo5jJzeU1c"
      },
      "source": [
        "import numpy\n",
        "import pandas\n",
        "import time\n",
        "import random\n",
        "import matplotlib\n",
        "#%matplotlib notebook\n",
        "import matplotlib.pyplot as plt\n",
        "import scipy.stats\n",
        "import matplotlib.offsetbox as offsetbox\n",
        "from matplotlib.ticker import StrMethodFormatter\n",
        "import copy"
      ],
      "execution_count": null,
      "outputs": []
    },
    {
      "cell_type": "code",
      "metadata": {
        "id": "Bg6T34ldeU1f"
      },
      "source": [
        "#for some reason, this needs to be in a separate cell\n",
        "params={\n",
        "    \"font.size\":15,\n",
        "    \"lines.linewidth\":5,\n",
        "}\n",
        "plt.rcParams.update(params)"
      ],
      "execution_count": null,
      "outputs": []
    },
    {
      "cell_type": "markdown",
      "metadata": {
        "id": "_SayWQ8w5qvJ"
      },
      "source": [
        "# **Technology** #"
      ]
    },
    {
      "cell_type": "markdown",
      "metadata": {
        "id": "-Vu4xtqY5uIC"
      },
      "source": [
        "**Technology:** Compute $\\cos(k\\pi/10)$ for $k\\in \\{0,1,2,\\dots 20\\}$\n"
      ]
    },
    {
      "cell_type": "markdown",
      "metadata": {
        "id": "NMhg793ueU1h"
      },
      "source": [
        "# **Pairs Trading** #"
      ]
    },
    {
      "cell_type": "markdown",
      "metadata": {
        "id": "WjeaOObieU1i"
      },
      "source": [
        "**Cointegration:** Is it better to regress F on GM, or GM on F?  This is an open-ended question with no fixed correct answer. I want you to investigate, come to a conclusion, and defend it."
      ]
    },
    {
      "cell_type": "markdown",
      "metadata": {
        "id": "4q5KdLzveU1m"
      },
      "source": [
        "# **Gaussian Random Variables** #"
      ]
    },
    {
      "cell_type": "markdown",
      "metadata": {
        "id": "1oLbFOoNeU1p"
      },
      "source": [
        "**Gaussian Moments:** Let $\\eta$ be a standard Gaussian random variable.  By simulation, compute \n",
        "* $\\mathbb{E}\\left[\\exp\\left[\\tfrac16\\eta\\right]\\right]$\n",
        "* $\\mathbb{E}[\\eta^4]$"
      ]
    },
    {
      "cell_type": "markdown",
      "source": [
        "# **Brownian Motion** #"
      ],
      "metadata": {
        "id": "ZDKnHUez60LU"
      }
    },
    {
      "cell_type": "markdown",
      "metadata": {
        "id": "RPIa8GV1eU1s"
      },
      "source": [
        "**Scaled Random Walk** Let $S$ be a simple random walk (up or down by 1 with probability 0.5).\n",
        "Empirically compute the distribution of\n",
        "* $S_{50}/\\sqrt{10}$\n",
        "* $S_{100}/\\sqrt{20}$\n",
        "* $S_{250}/\\sqrt{50}$"
      ]
    },
    {
      "cell_type": "code",
      "source": [
        "%%time\n",
        "rvs = numpy.random.choice([-1,1], (500000, 50))\n",
        "rvs[0,:] = 0\n",
        "rvs = numpy.sum(rvs, axis=1) / numpy.sqrt(10)\n",
        "μ, σ = 0, numpy.sqrt(5)\n",
        "var=5\n",
        "x = numpy.linspace(scipy.stats.norm.ppf(0.0001, μ, σ),\n",
        "                scipy.stats.norm.ppf(0.999, μ, σ), 1000)\n",
        "pdf = scipy.stats.norm.pdf(x, μ, σ)\n",
        "plt.hist(rvs,bins=20, density=True, label='S_50')\n",
        "plt.plot(x,pdf, lw=3, label='N(0, {var:.0f})'.format(var=var))\n",
        "plt.legend()"
      ],
      "metadata": {
        "id": "GYs6jNw0CigV",
        "outputId": "2b173de7-cee9-422f-8d21-65e5a3fa1f6c",
        "colab": {
          "base_uri": "https://localhost:8080/",
          "height": 322
        }
      },
      "execution_count": null,
      "outputs": [
        {
          "output_type": "stream",
          "name": "stdout",
          "text": [
            "CPU times: user 234 ms, sys: 73.4 ms, total: 307 ms\n",
            "Wall time: 492 ms\n"
          ]
        },
        {
          "output_type": "execute_result",
          "data": {
            "text/plain": [
              "<matplotlib.legend.Legend at 0x7f78cada0af0>"
            ]
          },
          "metadata": {},
          "execution_count": 14
        },
        {
          "output_type": "display_data",
          "data": {
            "text/plain": [
              "<Figure size 432x288 with 1 Axes>"
            ],
            "image/png": "[encoded data removed]"
          },
          "metadata": {
            "needs_background": "light"
          }
        }
      ]
    },
    {
      "cell_type": "code",
      "source": [
        "%%time\n",
        "rvs = numpy.random.choice([-1,1], (500000, 100))\n",
        "rvs[0,:] = 0\n",
        "rvs = rvs.sum(axis=1) / numpy.sqrt(20)\n",
        "μ, σ = 0, numpy.sqrt(5)\n",
        "var=5\n",
        "x = numpy.linspace(scipy.stats.norm.ppf(0.0001, μ, σ),\n",
        "                scipy.stats.norm.ppf(0.999, μ, σ), 1000)\n",
        "pdf = scipy.stats.norm.pdf(x, μ, σ)\n",
        "plt.hist(rvs, bins=20, density=True, label='S_100')\n",
        "plt.plot(x, pdf, lw=3, label='N(0, {var:.2f})'.format(var=5))\n",
        "plt.legend()"
      ],
      "metadata": {
        "id": "pb_vmd1FEePZ",
        "outputId": "afb50799-032d-421f-af8d-88225aa95b1e",
        "colab": {
          "base_uri": "https://localhost:8080/",
          "height": 322
        }
      },
      "execution_count": null,
      "outputs": [
        {
          "output_type": "stream",
          "name": "stdout",
          "text": [
            "CPU times: user 398 ms, sys: 125 ms, total: 523 ms\n",
            "Wall time: 740 ms\n"
          ]
        },
        {
          "output_type": "execute_result",
          "data": {
            "text/plain": [
              "<matplotlib.legend.Legend at 0x7f78d6c2dfa0>"
            ]
          },
          "metadata": {},
          "execution_count": 15
        },
        {
          "output_type": "display_data",
          "data": {
            "text/plain": [
              "<Figure size 432x288 with 1 Axes>"
            ],
            "image/png": "[encoded data removed]"
          },
          "metadata": {
            "needs_background": "light"
          }
        }
      ]
    },
    {
      "cell_type": "code",
      "source": [
        "%%time\n",
        "rvs = numpy.random.choice([-1,1], (500000, 250))\n",
        "rvs[0,:] = 0\n",
        "rvs = rvs.sum(axis=1) / numpy.sqrt(50)\n",
        "μ, σ = 0, numpy.sqrt(5)\n",
        "x = numpy.linspace(scipy.stats.norm.ppf(0.0001, μ, σ),\n",
        "                scipy.stats.norm.ppf(0.999, μ, σ), 1000)\n",
        "pdf = scipy.stats.norm.pdf(x, μ, σ)\n",
        "plt.hist(rvs, bins=20, density=True, label='S_250')\n",
        "plt.plot(x, pdf, lw=3, label='N(0, {var:.2f})'.format(var=var))\n",
        "plt.legend()"
      ],
      "metadata": {
        "id": "s9lgkSrbGSGs",
        "outputId": "570fe27e-c86b-4809-8430-05d195fb737f",
        "colab": {
          "base_uri": "https://localhost:8080/",
          "height": 322
        }
      },
      "execution_count": null,
      "outputs": [
        {
          "output_type": "stream",
          "name": "stdout",
          "text": [
            "CPU times: user 958 ms, sys: 292 ms, total: 1.25 s\n",
            "Wall time: 2 s\n"
          ]
        },
        {
          "output_type": "execute_result",
          "data": {
            "text/plain": [
              "<matplotlib.legend.Legend at 0x7f78d6b47520>"
            ]
          },
          "metadata": {},
          "execution_count": 16
        },
        {
          "output_type": "display_data",
          "data": {
            "text/plain": [
              "<Figure size 432x288 with 1 Axes>"
            ],
            "image/png": "[encoded data removed]"
          },
          "metadata": {
            "needs_background": "light"
          }
        }
      ]
    },
    {
      "cell_type": "markdown",
      "metadata": {
        "id": "By5h42IreU1u"
      },
      "source": [
        "**Brownian Area:**  Let $W$ be a Brownian motion starting at 1 and define\n",
        "$$ \\tau = \\inf\\{t>0: W_t<0\\}$$\n",
        "Compute the density of\n",
        "$$ A = \\int_{s=0}^{\\tau}W_sds$$"
      ]
    },
    {
      "cell_type": "code",
      "source": [
        "#important W_0 = 1\n",
        "# W_t < 0 = W_t - W_0 = W_t - 1 < 0 => W_t < 1\n",
        "threshold=1\n",
        "N_samples=10000\n",
        "SEED=2048\n",
        "T=1\n",
        "delta=1E-4\n",
        "tvals=numpy.arange(0,T,step=delta)\n",
        "dRW=2*scipy.stats.bernoulli.rvs(0.5,size=(len(tvals),N_samples),random_state=SEED)-1\n",
        "dS=dRW * numpy.sqrt(delta)\n",
        "dS[0,:]=1 #force RW to start at zero\n",
        "#dS=pandas.DataFrame(dRW,index=tvals)*numpy.sqrt(delta)\n",
        "S=numpy.cumsum(dS,axis=0)\n"
      ],
      "metadata": {
        "id": "9f3KnlWPM9BB"
      },
      "execution_count": null,
      "outputs": []
    },
    {
      "cell_type": "code",
      "source": [
        "S[:,0]"
      ],
      "metadata": {
        "id": "Bvk-pLnbCTuP",
        "outputId": "f4f82728-21d8-41f8-9365-7f84e6e18194",
        "colab": {
          "base_uri": "https://localhost:8080/"
        }
      },
      "execution_count": null,
      "outputs": [
        {
          "output_type": "execute_result",
          "data": {
            "text/plain": [
              "array([1.  , 1.01, 1.  , ..., 1.41, 1.4 , 1.41])"
            ]
          },
          "metadata": {},
          "execution_count": 4
        }
      ]
    },
    {
      "cell_type": "code",
      "source": [
        "passage_ind = numpy.argmax(S <= 0, axis=0)\n",
        "T_horizon = 1\n",
        "passage_time = passage_ind[passage_ind > 0] * 1e-4"
      ],
      "metadata": {
        "id": "eFjHsb3W2xV-"
      },
      "execution_count": null,
      "outputs": []
    },
    {
      "cell_type": "code",
      "source": [
        "# plot passage time\n",
        "plt.hist(passage_time, bins=25, density=True)\n",
        "xvals=numpy.linspace(0,T_horizon)\n",
        "fvals=scipy.stats.levy.pdf(xvals,scale=threshold**2)/scipy.stats.levy.cdf(T_horizon,scale=threshold**2)\n",
        "plt.plot(xvals, fvals)"
      ],
      "metadata": {
        "colab": {
          "base_uri": "https://localhost:8080/",
          "height": 287
        },
        "id": "aAKzDRMLjrkM",
        "outputId": "6c559682-e374-4483-cf95-c720b58be011"
      },
      "execution_count": null,
      "outputs": [
        {
          "output_type": "execute_result",
          "data": {
            "text/plain": [
              "[<matplotlib.lines.Line2D at 0x7f78d67f2e20>]"
            ]
          },
          "metadata": {},
          "execution_count": 29
        },
        {
          "output_type": "display_data",
          "data": {
            "text/plain": [
              "<Figure size 432x288 with 1 Axes>"
            ],
            "image/png": "[encoded data removed]"
          },
          "metadata": {
            "needs_background": "light"
          }
        }
      ]
    },
    {
      "cell_type": "code",
      "source": [
        "S_ = copy.deepcopy(S)\n",
        "# we have to drop the rest of value when the path is reach 0\n",
        "for (idx,val) in enumerate(passage_ind):\n",
        "  if val > 0:\n",
        "    S_[val+1:, idx] = 0"
      ],
      "metadata": {
        "id": "R6ZQZkUMm2yy"
      },
      "execution_count": null,
      "outputs": []
    },
    {
      "cell_type": "code",
      "source": [
        "plt.hist(numpy.sum(S_, axis=0) * 1e-4, bins=25, density=True)\n",
        "title=\"Density of A\"\n",
        "plt.title(title);"
      ],
      "metadata": {
        "colab": {
          "base_uri": "https://localhost:8080/",
          "height": 290
        },
        "id": "YAS8Eg1vm9FC",
        "outputId": "e87f4a75-7231-4234-daa0-d96d9f7a3559"
      },
      "execution_count": null,
      "outputs": [
        {
          "output_type": "display_data",
          "data": {
            "text/plain": [
              "<Figure size 432x288 with 1 Axes>"
            ],
            "image/png": "[encoded data removed]"
          },
          "metadata": {
            "needs_background": "light"
          }
        }
      ]
    },
    {
      "cell_type": "code",
      "source": [
        "import copy\n",
        "satisfied = copy.deepcopy(S[:, passage_ind > 0])\n",
        "for (idx,val) in enumerate(passage_ind[passage_ind > 0]):\n",
        "  satisfied[val+1:,idx] = 0"
      ],
      "metadata": {
        "id": "cANoXAd-fIPc"
      },
      "execution_count": null,
      "outputs": []
    },
    {
      "cell_type": "code",
      "source": [
        "#plt.hist(numpy.sum(satisfied, axis=0) * 1e-4, bins=25)"
      ],
      "metadata": {
        "id": "_ShywQ4xfvme"
      },
      "execution_count": null,
      "outputs": []
    },
    {
      "cell_type": "code",
      "source": [],
      "metadata": {
        "id": "W8Pwb80lbyfN"
      },
      "execution_count": null,
      "outputs": []
    }
  ]
}