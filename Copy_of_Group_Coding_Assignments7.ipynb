{
  "nbformat": 4,
  "nbformat_minor": 0,
  "metadata": {
    "celltoolbar": "Raw Cell Format",
    "kernelspec": {
      "display_name": "Python 3",
      "language": "python",
      "name": "python3"
    },
    "language_info": {
      "codemirror_mode": {
        "name": "ipython",
        "version": 3
      },
      "file_extension": ".py",
      "mimetype": "text/x-python",
      "name": "python",
      "nbconvert_exporter": "python",
      "pygments_lexer": "ipython3",
      "version": "3.7.3"
    },
    "colab": {
      "provenance": []
    }
  },
  "cells": [
    {
      "cell_type": "markdown",
      "metadata": {
        "id": "kj2CpetkeU0-"
      },
      "source": [
        "<img src=\"https://news.illinois.edu/files/6367/543635/116641.jpg\" alt=\"University of Illinois\" width=\"250\"/>\n",
        "\n",
        "# HW: Stochastics\n",
        "\n",
        "### due YYYY-MM-DD ###\n",
        "\n",
        "HW submission by group (up to 4 people)\n",
        "* John Doe <johndoe@illinois.edu>\n",
        "* Jane Roe <janeroe@illinois.edu>\n",
        "\n",
        "Note:  Anaconda Python <https://www.anaconda.com/distribution/> is a strong implementation of python."
      ]
    },
    {
      "cell_type": "markdown",
      "metadata": {
        "id": "Z8vUR0i1eU1Y"
      },
      "source": [
        "## imports and graphics configurations"
      ]
    },
    {
      "cell_type": "code",
      "source": [],
      "metadata": {
        "id": "hiP0JiTDetka"
      },
      "execution_count": null,
      "outputs": []
    },
    {
      "cell_type": "code",
      "metadata": {
        "id": "RFQo5jJzeU1c"
      },
      "source": [
        "import numpy\n",
        "import pandas\n",
        "import time\n",
        "import random\n",
        "import matplotlib\n",
        "#%matplotlib notebook\n",
        "import matplotlib.pyplot as plt\n",
        "import scipy.stats\n",
        "import matplotlib.offsetbox as offsetbox\n",
        "from matplotlib.ticker import StrMethodFormatter"
      ],
      "execution_count": null,
      "outputs": []
    },
    {
      "cell_type": "code",
      "metadata": {
        "id": "Bg6T34ldeU1f"
      },
      "source": [
        "#for some reason, this needs to be in a separate cell\n",
        "params={\n",
        "    \"font.size\":15,\n",
        "    \"lines.linewidth\":5,\n",
        "}\n",
        "plt.rcParams.update(params)"
      ],
      "execution_count": null,
      "outputs": []
    },
    {
      "cell_type": "markdown",
      "metadata": {
        "id": "_SayWQ8w5qvJ"
      },
      "source": [
        "# **Technology** #"
      ]
    },
    {
      "cell_type": "markdown",
      "metadata": {
        "id": "-Vu4xtqY5uIC"
      },
      "source": [
        "**Technology:** Compute $\\cos(k\\pi/10)$ for $k\\in \\{0,1,2,\\dots 20\\}$\n"
      ]
    },
    {
      "cell_type": "markdown",
      "metadata": {
        "id": "NMhg793ueU1h"
      },
      "source": [
        "# **Pairs Trading** #"
      ]
    },
    {
      "cell_type": "markdown",
      "metadata": {
        "id": "WjeaOObieU1i"
      },
      "source": [
        "**Cointegration:** Is it better to regress F on GM, or GM on F?  This is an open-ended question with no fixed correct answer. I want you to investigate, come to a conclusion, and defend it."
      ]
    },
    {
      "cell_type": "markdown",
      "metadata": {
        "id": "4q5KdLzveU1m"
      },
      "source": [
        "# **Gaussian Random Variables** #"
      ]
    },
    {
      "cell_type": "markdown",
      "metadata": {
        "id": "1oLbFOoNeU1p"
      },
      "source": [
        "**Gaussian Moments:** Let $\\eta$ be a standard Gaussian random variable.  By simulation, compute \n",
        "* $\\mathbb{E}\\left[\\exp\\left[\\tfrac16\\eta\\right]\\right]$\n",
        "* $\\mathbb{E}[\\eta^4]$"
      ]
    },
    {
      "cell_type": "markdown",
      "source": [
        "# **Brownian Motion** #"
      ],
      "metadata": {
        "id": "ZDKnHUez60LU"
      }
    },
    {
      "cell_type": "markdown",
      "metadata": {
        "id": "RPIa8GV1eU1s"
      },
      "source": [
        "**Scaled Random Walk** Let $S$ be a simple random walk (up or down by 1 with probability 0.5).\n",
        "Empirically compute the distribution of\n",
        "* $S_{50}/\\sqrt{10}$\n",
        "* $S_{100}/\\sqrt{20}$\n",
        "* $S_{250}/\\sqrt{50}$"
      ]
    },
    {
      "cell_type": "markdown",
      "metadata": {
        "id": "By5h42IreU1u"
      },
      "source": [
        "**Brownian Area:**  Let $W$ be a Brownian motion starting at 1 and define\n",
        "$$ \\tau = \\inf\\{t>0: W_t<0\\}$$\n",
        "By simulation, compute the density of\n",
        "$$ A = \\int_{s=0}^{\\tau}W_sds$$"
      ]
    },
    {
      "cell_type": "markdown",
      "metadata": {
        "id": "l2S4qkokeU13"
      },
      "source": [
        "# **Information** #"
      ]
    },
    {
      "cell_type": "markdown",
      "metadata": {
        "id": "j8jQ4hFReU14"
      },
      "source": [
        "**Conditional Law:** By simulation, compute\n",
        "* $\\frac{1}{0.01}P\\{W_5>6|2<W_3<2.01\\}$\n",
        "* $\\frac{1}{0.01}P\\{W_5>6|2<W_3<2.01, W_2<1.8\\}$"
      ]
    },
    {
      "cell_type": "markdown",
      "metadata": {
        "id": "HRyWmLX8eU1z"
      },
      "source": [
        "# **Ito Integration** #"
      ]
    },
    {
      "cell_type": "markdown",
      "metadata": {
        "id": "d5A0h-9KeU10"
      },
      "source": [
        "**Martingale Properties:** Define\n",
        "$$ f(t)=\\begin{cases} 1 & \\text{if $1\\le t< 3$}\\\\\n",
        "5 &\\text{if $3\\le t<6$}\\\\\n",
        "3 \\text{sgn}(W_4+3) &\\text{if $6\\le t<8$}\n",
        " \\end{cases} $$ \n",
        "and then define\n",
        "$$ M_t = \\int_{s=0}^t f(s)dW_s $$\n",
        "By simulation, compute\n",
        "* $E[M_8]$\n",
        "* $E[M_4]$\n",
        "* $E[M_9]$\n",
        "* $E[M_8 |W_2|^\\pi]-E[M_2|W_2|^\\pi]$\n",
        "* $E[M_4 \\cos(W_2)]-E[M_2\\cos(W_2)]$\n",
        "* $E[M_9 W_7^2]-E[M_7W_7^2]$"
      ]
    },
    {
      "cell_type": "code",
      "source": [
        "N_samples = 100000\n",
        "SEED = 2048\n",
        "T = 9\n",
        "delta = 0.01\n",
        "scale = int(1/delta)\n",
        "tvals=numpy.arange(0,T,step=delta)\n",
        "\n",
        "\n",
        "def generate_path(n_sample:int) -> numpy.ndarray:\n",
        "  dRW = numpy.empty((len(tvals)+1, n_sample))\n",
        "  dRW[1:,:]= scipy.stats.norm.rvs(scale=numpy.sqrt(delta), size=(len(tvals), n_sample),random_state=SEED)\n",
        "  dRW[0,:]=0\n",
        "  RW= dRW.cumsum(axis=0)\n",
        "  #return interpolate.interp1d(tvals,RW)\n",
        "  return RW\n",
        "\n",
        "\n",
        "RW = generate_path(N_samples)"
      ],
      "metadata": {
        "id": "prCe2yKvOFnG"
      },
      "execution_count": null,
      "outputs": []
    },
    {
      "cell_type": "code",
      "source": [
        "def integrator(path: numpy.ndarray, t: int) -> numpy.ndarray:\n",
        "  \"\"\"\n",
        "  path: np.array with shape: (tvals+1, n_sample)\n",
        "  t: the time t \n",
        "  \"\"\"\n",
        "  sign = numpy.sign(RW[4*scale,:] + 3) if t >=4 else 0\n",
        "  pieces = ((path[numpy.minimum(t, 3)*scale,:] - path[numpy.minimum(t, 1)*scale,:]) * 1) + ((path[numpy.minimum(t, 6)*scale,:] - path[numpy.minimum(t, 3)*scale,:]) * 5) \\\n",
        "      + ((path[numpy.minimum(t, 8)*scale,:] - path[numpy.minimum(t, 6)*scale,:]) * sign *3)\n",
        "  return pieces"
      ],
      "metadata": {
        "id": "0Xl5qUuqNf9w"
      },
      "execution_count": null,
      "outputs": []
    },
    {
      "cell_type": "markdown",
      "source": [
        "$E[M_8]$"
      ],
      "metadata": {
        "id": "lHmClESClIun"
      }
    },
    {
      "cell_type": "code",
      "source": [
        "integrator(RW, 8).mean()"
      ],
      "metadata": {
        "colab": {
          "base_uri": "https://localhost:8080/"
        },
        "id": "HA-ms9HKsKgu",
        "outputId": "4d5f5c8d-54f2-4b5d-8ddb-0098d4da99f6"
      },
      "execution_count": null,
      "outputs": [
        {
          "output_type": "execute_result",
          "data": {
            "text/plain": [
              "0.056005493247396176"
            ]
          },
          "metadata": {},
          "execution_count": 38
        }
      ]
    },
    {
      "cell_type": "markdown",
      "source": [
        "$E[M_4]$"
      ],
      "metadata": {
        "id": "BnRE1AYyvWuz"
      }
    },
    {
      "cell_type": "code",
      "source": [
        "integrator(RW, 4).mean()"
      ],
      "metadata": {
        "colab": {
          "base_uri": "https://localhost:8080/"
        },
        "id": "KgA_e82AvBTh",
        "outputId": "7a90d0d6-5fde-4c3b-cab1-a8115e1053b4"
      },
      "execution_count": null,
      "outputs": [
        {
          "output_type": "execute_result",
          "data": {
            "text/plain": [
              "0.013561714044551998"
            ]
          },
          "metadata": {},
          "execution_count": 39
        }
      ]
    },
    {
      "cell_type": "markdown",
      "source": [
        "$E[M_9]$"
      ],
      "metadata": {
        "id": "pAk_AuqGvZpA"
      }
    },
    {
      "cell_type": "code",
      "source": [
        "integrator(RW, 9).mean()"
      ],
      "metadata": {
        "colab": {
          "base_uri": "https://localhost:8080/"
        },
        "id": "J_q_okoavY7m",
        "outputId": "cf3f2cc5-3705-4b3b-85cd-228d12c404d9"
      },
      "execution_count": null,
      "outputs": [
        {
          "output_type": "execute_result",
          "data": {
            "text/plain": [
              "0.056005493247396176"
            ]
          },
          "metadata": {},
          "execution_count": 40
        }
      ]
    },
    {
      "cell_type": "markdown",
      "source": [
        "$E[M_8 |W_2|^\\pi]-E[M_2|W_2|^\\pi]$"
      ],
      "metadata": {
        "id": "V6Ku-SBIwiyH"
      }
    },
    {
      "cell_type": "code",
      "source": [
        "(integrator(RW, 8) * numpy.abs(RW[2*scale,:])**numpy.pi).mean() - (integrator(RW, 2) * numpy.abs(RW[2*scale,:])**numpy.pi).mean()"
      ],
      "metadata": {
        "colab": {
          "base_uri": "https://localhost:8080/"
        },
        "id": "2G9qog7ovpk5",
        "outputId": "0450c815-e269-4206-bd73-0d00240f4e93"
      },
      "execution_count": null,
      "outputs": [
        {
          "output_type": "execute_result",
          "data": {
            "text/plain": [
              "0.3726307092983768"
            ]
          },
          "metadata": {},
          "execution_count": 41
        }
      ]
    },
    {
      "cell_type": "markdown",
      "source": [
        "$E[M_4 \\cos(W_2)]-E[M_2\\cos(W_2)]$"
      ],
      "metadata": {
        "id": "vdjjsy14xszt"
      }
    },
    {
      "cell_type": "code",
      "source": [
        "(integrator(RW, 4) * numpy.cos(RW[2*scale,:])).mean() - (integrator(RW, 2) * numpy.cos(RW[2*scale,:])).mean()"
      ],
      "metadata": {
        "colab": {
          "base_uri": "https://localhost:8080/"
        },
        "id": "YOclpY8gxcMm",
        "outputId": "6ea89ec3-abaf-48c0-83de-d6a6f8261efd"
      },
      "execution_count": null,
      "outputs": [
        {
          "output_type": "execute_result",
          "data": {
            "text/plain": [
              "-0.00790462471098397"
            ]
          },
          "metadata": {},
          "execution_count": 42
        }
      ]
    },
    {
      "cell_type": "markdown",
      "source": [
        "$E[M_9 W_7^2]-E[M_7W_7^2]$"
      ],
      "metadata": {
        "id": "2UWnVHOAx5xB"
      }
    },
    {
      "cell_type": "code",
      "source": [
        "(integrator(RW, 9) * RW[7*scale,:]**2).mean() - (integrator(RW, 7) * RW[7*scale,:]**2).mean()"
      ],
      "metadata": {
        "colab": {
          "base_uri": "https://localhost:8080/"
        },
        "id": "busacdCyx28P",
        "outputId": "fdd40b85-99af-4d51-86d2-71f24bb8b59c"
      },
      "execution_count": null,
      "outputs": [
        {
          "output_type": "execute_result",
          "data": {
            "text/plain": [
              "-0.04782547611972543"
            ]
          },
          "metadata": {},
          "execution_count": 43
        }
      ]
    },
    {
      "cell_type": "code",
      "source": [],
      "metadata": {
        "id": "a7rGyHKOJmPX"
      },
      "execution_count": null,
      "outputs": []
    }
  ]
}