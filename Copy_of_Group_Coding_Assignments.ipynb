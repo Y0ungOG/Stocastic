{
  "nbformat": 4,
  "nbformat_minor": 0,
  "metadata": {
    "celltoolbar": "Raw Cell Format",
    "kernelspec": {
      "display_name": "Python 3",
      "language": "python",
      "name": "python3"
    },
    "language_info": {
      "codemirror_mode": {
        "name": "ipython",
        "version": 3
      },
      "file_extension": ".py",
      "mimetype": "text/x-python",
      "name": "python",
      "nbconvert_exporter": "python",
      "pygments_lexer": "ipython3",
      "version": "3.7.3"
    },
    "colab": {
      "provenance": []
    }
  },
  "cells": [
    {
      "cell_type": "markdown",
      "metadata": {
        "id": "kj2CpetkeU0-"
      },
      "source": [
        "<img src=\"https://news.illinois.edu/files/6367/543635/116641.jpg\" alt=\"University of Illinois\" width=\"250\"/>\n",
        "\n",
        "# HW: Stochastics\n",
        "\n",
        "### due YYYY-MM-DD ###\n",
        "\n",
        "HW submission by group (up to 4 people)\n",
        "* John Doe <johndoe@illinois.edu>\n",
        "* Jane Roe <janeroe@illinois.edu>\n",
        "\n",
        "Note:  Anaconda Python <https://www.anaconda.com/distribution/> is a strong implementation of python."
      ]
    },
    {
      "cell_type": "markdown",
      "metadata": {
        "id": "Z8vUR0i1eU1Y"
      },
      "source": [
        "## imports and graphics configurations"
      ]
    },
    {
      "cell_type": "code",
      "metadata": {
        "id": "RFQo5jJzeU1c"
      },
      "source": [
        "import numpy\n",
        "import pandas\n",
        "import time\n",
        "import random\n",
        "import matplotlib\n",
        "#%matplotlib notebook\n",
        "import matplotlib.pyplot as plt\n",
        "import scipy.stats\n",
        "import matplotlib.offsetbox as offsetbox\n",
        "from matplotlib.ticker import StrMethodFormatter"
      ],
      "execution_count": null,
      "outputs": []
    },
    {
      "cell_type": "code",
      "metadata": {
        "id": "Bg6T34ldeU1f"
      },
      "source": [
        "#for some reason, this needs to be in a separate cell\n",
        "params={\n",
        "    \"font.size\":15,\n",
        "    \"lines.linewidth\":5,\n",
        "}\n",
        "plt.rcParams.update(params)"
      ],
      "execution_count": null,
      "outputs": []
    },
    {
      "cell_type": "markdown",
      "metadata": {
        "id": "_SayWQ8w5qvJ"
      },
      "source": [
        "# **Technology** #"
      ]
    },
    {
      "cell_type": "markdown",
      "metadata": {
        "id": "-Vu4xtqY5uIC"
      },
      "source": [
        "**Technology:** Compute $\\cos(k\\pi/10)$ for $k\\in \\{0,1,2,\\dots 20\\}$\n"
      ]
    },
    {
      "cell_type": "markdown",
      "metadata": {
        "id": "NMhg793ueU1h"
      },
      "source": [
        "# **Pairs Trading** #"
      ]
    },
    {
      "cell_type": "markdown",
      "metadata": {
        "id": "WjeaOObieU1i"
      },
      "source": [
        "**Cointegration:** Is it better to regress F on GM, or GM on F?  This is an open-ended question with no fixed correct answer. I want you to investigate, come to a conclusion, and defend it."
      ]
    },
    {
      "cell_type": "markdown",
      "metadata": {
        "id": "4q5KdLzveU1m"
      },
      "source": [
        "# **Gaussian Random Variables** #"
      ]
    },
    {
      "cell_type": "markdown",
      "metadata": {
        "id": "1oLbFOoNeU1p"
      },
      "source": [
        "**Gaussian Moments:** Let $\\eta$ be a standard Gaussian random variable.  By simulation, compute \n",
        "* $\\mathbb{E}\\left[\\exp\\left[\\tfrac16\\eta\\right]\\right]$\n",
        "* $\\mathbb{E}[\\eta^4]$"
      ]
    },
    {
      "cell_type": "markdown",
      "source": [
        "# **Brownian Motion** #"
      ],
      "metadata": {
        "id": "ZDKnHUez60LU"
      }
    },
    {
      "cell_type": "markdown",
      "metadata": {
        "id": "RPIa8GV1eU1s"
      },
      "source": [
        "**Scaled Random Walk** Let $S$ be a simple random walk (up or down by 1 with probability 0.5).\n",
        "Empirically compute the distribution of\n",
        "* $S_{50}/\\sqrt{10}$\n",
        "* $S_{100}/\\sqrt{20}$\n",
        "* $S_{250}/\\sqrt{50}$"
      ]
    },
    {
      "cell_type": "markdown",
      "metadata": {
        "id": "By5h42IreU1u"
      },
      "source": [
        "**Brownian Area:**  Let $W$ be a Brownian motion starting at 1 and define\n",
        "$$ \\tau = \\inf\\{t>0: W_t<0\\}$$\n",
        "By simulation, compute the density of\n",
        "$$ A = \\int_{s=0}^{\\tau}W_sds$$"
      ]
    },
    {
      "cell_type": "markdown",
      "metadata": {
        "id": "l2S4qkokeU13"
      },
      "source": [
        "# **Information** #"
      ]
    },
    {
      "cell_type": "markdown",
      "metadata": {
        "id": "j8jQ4hFReU14"
      },
      "source": [
        "**Conditional Law:** By simulation, compute\n",
        "* $\\frac{1}{0.01}P\\{W_5>6|2<W_3<2.01\\}$\n",
        "* $\\frac{1}{0.01}P\\{W_5>6|2<W_3<2.01, W_2<1.8\\}$"
      ]
    },
    {
      "cell_type": "code",
      "source": [
        "def get_prob1():\n",
        "  N_samples=1000000\n",
        "  W3 = scipy.stats.norm.rvs(0.,3**0.5 ,size=(N_samples,), random_state=2048) # W3 ~ Normal(0, sqrt(3))\n",
        "  cond1 = (W3>2) & (W3<2.01)\n",
        "  satisfied_cond1 = cond1.sum()\n",
        "  W5 = W3 + scipy.stats.norm.rvs(0.,2**0.5 ,size=(N_samples,), random_state=1024) # W5-W3 ~ Normal(0, sqrt(2))\n",
        "  cond2 = (W5 > 6)\n",
        "  satisfied_cond2 = (cond1 & cond2).sum()\n",
        "  print(\"100 * P{ W5 > 6 | 2 < W3 < 2.01} = \", satisfied_cond2 / satisfied_cond1 / 0.01)\n"
      ],
      "metadata": {
        "id": "RpVlqy_TqtMj"
      },
      "execution_count": null,
      "outputs": []
    },
    {
      "cell_type": "code",
      "source": [
        "get_prob1()"
      ],
      "metadata": {
        "colab": {
          "base_uri": "https://localhost:8080/"
        },
        "id": "FoY6zS3QS1fX",
        "outputId": "65ebb264-49b4-42b0-b325-1cfd3beef969"
      },
      "execution_count": null,
      "outputs": [
        {
          "output_type": "stream",
          "name": "stdout",
          "text": [
            "100 * P{ W5 > 6 | 2 < W3 < 2.01} =  0.2540220152413209\n"
          ]
        }
      ]
    },
    {
      "cell_type": "code",
      "source": [
        "def get_prob2():\n",
        "  N_samples=1000000\n",
        "  W2 = scipy.stats.norm.rvs(0., 2**0.5 ,size=(N_samples,), random_state=0) # W2 ~ Normal(0, sqrt(2))\n",
        "  W3 = W2 + scipy.stats.norm.rvs(0.,1**0.5 ,size=(N_samples,), random_state=1) # W3-W2 ~ Normal(0,1)\n",
        "  cond1 = (W2 < 1.8) & (W3>2) & (W3<2.01)\n",
        "  satisfied_cond1 = cond1.sum()\n",
        "  W5 = W3 + scipy.stats.norm.rvs(0.,2**0.5 ,size=(N_samples,), random_state=2) # W5-W3 ~ Normal(0, sqrt(2))\n",
        "  cond2 = (W5 > 6)\n",
        "  satisfied_cond2 = (cond1 & cond2).sum()\n",
        "  satisfied_cond2 / satisfied_cond1 / 0.01\n",
        "  print(\"100 * P{ W5 > 6 | 2 < W3 < 2.01, W2 < 1.8} = \", satisfied_cond2 / satisfied_cond1 / 0.01)"
      ],
      "metadata": {
        "id": "40pvWeFDs86b"
      },
      "execution_count": null,
      "outputs": []
    },
    {
      "cell_type": "code",
      "source": [
        "get_prob2()"
      ],
      "metadata": {
        "colab": {
          "base_uri": "https://localhost:8080/"
        },
        "id": "MWK7j4EsRjj0",
        "outputId": "6c0b0f7a-fb59-4e71-cdc8-bb7765da22d3"
      },
      "execution_count": null,
      "outputs": [
        {
          "output_type": "stream",
          "name": "stdout",
          "text": [
            "100 * P{ W5 > 6 | 2 < W3 < 2.01, W2 < 1.8} =  0.2442002442002442\n"
          ]
        }
      ]
    },
    {
      "cell_type": "code",
      "source": [],
      "metadata": {
        "id": "EchpcNJWsfsM"
      },
      "execution_count": null,
      "outputs": []
    }
  ]
}